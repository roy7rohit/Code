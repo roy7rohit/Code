{
 "cells": [
  {
   "cell_type": "code",
   "execution_count": 14,
   "metadata": {},
   "outputs": [
    {
     "name": "stdout",
     "output_type": "stream",
     "text": [
      "   user-id  item-id  rating  timeStamp         title\n",
      "0      196      242       3  881250949  Kolya (1996)\n",
      "1       63      242       3  875747190  Kolya (1996)\n",
      "2      226      242       5  883888671  Kolya (1996)\n",
      "3      154      242       3  879138235  Kolya (1996)\n",
      "4      306      242       5  876503793  Kolya (1996)\n"
     ]
    }
   ],
   "source": [
    "import numpy as np\n",
    "import pandas as pd\n",
    "import warnings\n",
    "\n",
    "#it will ignore all the warnings which occur during worktime\n",
    "warnings.filterwarnings('ignore')\n",
    "\n",
    "# Get data Set\n",
    "#name the columns in your dataset\n",
    "\n",
    "columns_name = [\"user-id\", \"item-id\", \"rating\", \"timeStamp\"]\n",
    "df = pd.read_csv(\"ml-100k/u.data\", sep='\\t', names=columns_name)\n",
    "\n",
    "\n",
    "movies_title = pd.read_csv(\"ml-100k/u.item\", sep=\"\\|\", header=None)\n",
    "movies_title = movies_title[[0,1]]\n",
    "movies_title.columns = [\"item-id\", \"title\"]\n",
    "\n",
    "# merge two data frames(df, movies_title)\n",
    "df = pd.merge(df, movies_title, on=\"item-id\") #(on) merge the frames using a unique key which present in both dataframes\n",
    "# print(df.head())\n",
    "\n",
    "\n",
    "# Exploratory Data Analysis\n",
    "import matplotlib.pyplot as plt\n",
    "import seaborn as sns\n",
    "sns.set_style('white')\n",
    "\n",
    "# # we group our dataframe and find the average rating of each and every movie\n",
    "\n",
    "# df = df.groupby('title').mean()['rating'].sort_values(ascending = False)\n",
    "# print(df.head())\n",
    "\n",
    "df.groupby('title').count()['rating'].sort_values(ascending = False).head()\n",
    "print(df.head())\n",
    "\n",
    "\n",
    "# ratings = pd.DataFrame(df.groupby('title').mean()['rating'])\n",
    "# print(ratings.head())\n",
    "\n",
    "# how many no of ratings these movies got(num of ratings)\n",
    "\n",
    "# ratings['num of ratings'] = pd.DataFrame(df.groupby('title').count()['rating'])\n",
    "# # print(ratings.head())\n",
    "# print(ratings.sort_values(by='rating', ascending=False))\n",
    "\n",
    "#let's create the histogram graph of the 9num of ratings = no of views0 each movie got using matplotlib and seaborn\n",
    "\n",
    "# plt.figure(figsize=(10, 6))\n",
    "# plt.hist(ratings['num of ratings'], bins = 70)\n",
    "# # plt.show()\n",
    "\n",
    "# let's also plot the histogram of ratings by user\n",
    "\n",
    "# plt.hist(ratings['rating'], bins=70)\n",
    "# plt.show()\n",
    "\n",
    "\n",
    "# let's join two plots rating and num of ratings using seaborn\n",
    "\n",
    "# sns.jointplot(x='rating',y='num of ratings', data=ratings, alpha=0.5)\n",
    "# sns.distplot()\n",
    "\n",
    "# let's analysis how many times a movie has been watched and how mauch is their ratings\n",
    "\n",
    "# df = df.groupby('title').count()['rating'].sort_values(ascending = False)\n",
    "# print(df.head())\n",
    "\n",
    "\n",
    "# print(df.head())\n",
    "# print(df.tail())\n",
    "\n",
    "# print(movies_title.head())\n",
    "# print(movies_title.shape)\n",
    "\n",
    "\n",
    "# print(df[\"user-id\"]) #show all the user-id\n",
    "# print(df[\"user-id\"].nunique()) #gives all the unique user-id's\n",
    "# print(df[\"item-id\"].nunique()) #gives all the unique item-id's/movies\n",
    "\n",
    "# print(df.head())\n",
    "\n",
    "# print(df.shape) # check the shape of data\n"
   ]
  },
  {
   "cell_type": "code",
   "execution_count": null,
   "metadata": {},
   "outputs": [],
   "source": []
  },
  {
   "cell_type": "code",
   "execution_count": null,
   "metadata": {},
   "outputs": [],
   "source": []
  },
  {
   "cell_type": "code",
   "execution_count": null,
   "metadata": {},
   "outputs": [],
   "source": []
  },
  {
   "cell_type": "code",
   "execution_count": null,
   "metadata": {},
   "outputs": [],
   "source": []
  },
  {
   "cell_type": "code",
   "execution_count": null,
   "metadata": {},
   "outputs": [],
   "source": []
  },
  {
   "cell_type": "code",
   "execution_count": null,
   "metadata": {},
   "outputs": [],
   "source": []
  },
  {
   "cell_type": "code",
   "execution_count": null,
   "metadata": {},
   "outputs": [],
   "source": []
  },
  {
   "cell_type": "code",
   "execution_count": null,
   "metadata": {},
   "outputs": [],
   "source": []
  },
  {
   "cell_type": "code",
   "execution_count": null,
   "metadata": {},
   "outputs": [],
   "source": []
  },
  {
   "cell_type": "code",
   "execution_count": null,
   "metadata": {},
   "outputs": [],
   "source": []
  },
  {
   "cell_type": "code",
   "execution_count": null,
   "metadata": {},
   "outputs": [],
   "source": []
  },
  {
   "cell_type": "code",
   "execution_count": null,
   "metadata": {},
   "outputs": [],
   "source": []
  }
 ],
 "metadata": {
  "kernelspec": {
   "display_name": "Python 3",
   "language": "python",
   "name": "python3"
  },
  "language_info": {
   "codemirror_mode": {
    "name": "ipython",
    "version": 3
   },
   "file_extension": ".py",
   "mimetype": "text/x-python",
   "name": "python",
   "nbconvert_exporter": "python",
   "pygments_lexer": "ipython3",
   "version": "3.8.2"
  }
 },
 "nbformat": 4,
 "nbformat_minor": 4
}
